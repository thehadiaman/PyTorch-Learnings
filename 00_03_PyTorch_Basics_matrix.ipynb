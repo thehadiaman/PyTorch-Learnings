{
 "cells": [
  {
   "cell_type": "code",
   "execution_count": 1,
   "id": "95f0748e-9bce-491e-8921-a63c37a750eb",
   "metadata": {},
   "outputs": [],
   "source": [
    "# Import required packages\n",
    "import torch\n",
    "import pandas as pd\n",
    "import numpy as np\n",
    "import matplotlib, matplotlib.pyplot as plt"
   ]
  },
  {
   "cell_type": "code",
   "execution_count": 2,
   "id": "9b291370-5361-464a-a60b-f3502a9d5880",
   "metadata": {},
   "outputs": [
    {
     "name": "stdout",
     "output_type": "stream",
     "text": [
      "PyTorch    : 2.8.0+cu126\n",
      "Pandas     : 2.3.2\n",
      "NumPy      : 2.1.2\n",
      "Matplotlib : 3.10.6\n"
     ]
    }
   ],
   "source": [
    "# Check versions to clarify if all required modules are installed and imported\n",
    "print('PyTorch    :', torch.__version__)\n",
    "print('Pandas     :', pd.__version__)\n",
    "print('NumPy      :', np.__version__)\n",
    "print('Matplotlib :', matplotlib.__version__)"
   ]
  },
  {
   "cell_type": "markdown",
   "id": "5daeb23c-72bb-41b3-b62f-05cabc1f7804",
   "metadata": {},
   "source": [
    "----------------------------------------------------------------------------------------------------------------------------------------------------------------\n",
    "\n",
    "### Matrix tensor & Operations"
   ]
  },
  {
   "cell_type": "code",
   "execution_count": 3,
   "id": "f0e33e1f-1264-44f6-a0c8-46b64beafc23",
   "metadata": {},
   "outputs": [
    {
     "name": "stdout",
     "output_type": "stream",
     "text": [
      "tensor([[4, 5],\n",
      "        [3, 2]])\n",
      "tensor([[[2, 6, 5],\n",
      "         [7, 4, 1],\n",
      "         [4, 9, 7]],\n",
      "\n",
      "        [[5, 4, 7],\n",
      "         [1, 3, 6],\n",
      "         [2, 5, 2]]])\n",
      "torch.Size([2, 2])\n",
      "torch.Size([2, 3, 3])\n",
      "2\n",
      "3\n"
     ]
    }
   ],
   "source": [
    "# Matrix\n",
    "X = torch.tensor(\n",
    "    [\n",
    "        [4, 5],\n",
    "        [3, 2]\n",
    "    ]\n",
    ")\n",
    "Y = torch.tensor(\n",
    "    [\n",
    "        [\n",
    "            [2, 6, 5],\n",
    "            [7, 4, 1],\n",
    "            [4, 9, 7]\n",
    "        ],\n",
    "        [\n",
    "            [5, 4, 7],\n",
    "            [1, 3, 6],\n",
    "            [2, 5, 2]\n",
    "        ]\n",
    "    ]\n",
    ")\n",
    "\n",
    "\n",
    "# Print the properties of matrix tensor\n",
    "print(X)\n",
    "print(Y)\n",
    "print(X.shape)\n",
    "print(Y.shape)\n",
    "print(X.ndim) # Dimensions of x\n",
    "print(Y.ndim) # Dimensions of y"
   ]
  },
  {
   "cell_type": "code",
   "execution_count": null,
   "id": "1e633ff9-0fe4-4646-9229-ea579ce2c95e",
   "metadata": {},
   "outputs": [],
   "source": []
  }
 ],
 "metadata": {
  "kernelspec": {
   "display_name": "Python 3 (ipykernel)",
   "language": "python",
   "name": "python3"
  },
  "language_info": {
   "codemirror_mode": {
    "name": "ipython",
    "version": 3
   },
   "file_extension": ".py",
   "mimetype": "text/x-python",
   "name": "python",
   "nbconvert_exporter": "python",
   "pygments_lexer": "ipython3",
   "version": "3.12.3"
  }
 },
 "nbformat": 4,
 "nbformat_minor": 5
}
