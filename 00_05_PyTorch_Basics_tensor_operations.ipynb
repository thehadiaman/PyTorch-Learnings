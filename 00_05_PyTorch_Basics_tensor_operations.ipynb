{
 "cells": [
  {
   "cell_type": "code",
   "execution_count": 2,
   "id": "95f0748e-9bce-491e-8921-a63c37a750eb",
   "metadata": {},
   "outputs": [],
   "source": [
    "# Import required packages\n",
    "import torch\n",
    "import pandas as pd\n",
    "import numpy as np\n",
    "import matplotlib, matplotlib.pyplot as plt"
   ]
  },
  {
   "cell_type": "code",
   "execution_count": 3,
   "id": "9b291370-5361-464a-a60b-f3502a9d5880",
   "metadata": {},
   "outputs": [
    {
     "name": "stdout",
     "output_type": "stream",
     "text": [
      "PyTorch    : 2.7.1+cu118\n",
      "Pandas     : 2.3.2\n",
      "NumPy      : 2.3.3\n",
      "Matplotlib : 3.10.6\n"
     ]
    }
   ],
   "source": [
    "# Check versions to clarify if all required modules are installed and imported\n",
    "print('PyTorch    :', torch.__version__)\n",
    "print('Pandas     :', pd.__version__)\n",
    "print('NumPy      :', np.__version__)\n",
    "print('Matplotlib :', matplotlib.__version__)"
   ]
  },
  {
   "cell_type": "markdown",
   "id": "5daeb23c-72bb-41b3-b62f-05cabc1f7804",
   "metadata": {},
   "source": [
    "------------------------------------------------------------------------------------------------------------------------------\n",
    "\n",
    "### Manipulating Tensors / Tensor Operations\n",
    "\n",
    "#### Addition\n",
    "\n",
    "* `torch.add(tensor1, tensor2)` – Element-wise addition of two tensors.\n",
    "* `tensor1 + tensor2` – Shorthand for element-wise addition.\n",
    "\n",
    "\n",
    "#### Subtraction\n",
    "\n",
    "* `torch.sub(tensor1, tensor2)` – Element-wise subtraction of tensor2 from tensor1.\n",
    "* `tensor1 - tensor2` – Shorthand for element-wise subtraction.\n",
    "\n",
    "#### Multiplication\n",
    "\n",
    "* `torch.mul(tensor1, tensor2)` – Element-wise multiplication of two tensors.\n",
    "* `tensor1 * tensor2` – Shorthand for element-wise multiplication.\n",
    "\n",
    "#### Division\n",
    "\n",
    "* `torch.div(tensor1, tensor2)` – Element-wise division of tensor1 by tensor2.\n",
    "* `tensor1 / tensor2` – Shorthand for element-wise division.\n",
    "\n"
   ]
  },
  {
   "cell_type": "code",
   "execution_count": 6,
   "id": "44fb43af-5683-4825-bb55-66afd0583b22",
   "metadata": {},
   "outputs": [
    {
     "data": {
      "text/plain": [
       "tensor([11, 12, 13])"
      ]
     },
     "execution_count": 6,
     "metadata": {},
     "output_type": "execute_result"
    }
   ],
   "source": [
    "# Simple addition\n",
    "X_TENSOR = torch.tensor([1, 2, 3])\n",
    "X_TENSOR + 10 # Simple addition"
   ]
  },
  {
   "cell_type": "code",
   "execution_count": 10,
   "id": "8f91dd9a-2ac8-4c47-833e-9400eed91657",
   "metadata": {},
   "outputs": [
    {
     "data": {
      "text/plain": [
       "tensor([ 0, 10, 20])"
      ]
     },
     "execution_count": 10,
     "metadata": {},
     "output_type": "execute_result"
    }
   ],
   "source": [
    "# Simple subtraction\n",
    "X_TENSOR = torch.tensor([10, 20, 30])\n",
    "X_TENSOR - 10"
   ]
  },
  {
   "cell_type": "code",
   "execution_count": 11,
   "id": "40eaf7a8-a7d2-4146-9358-95ec65fb24cb",
   "metadata": {},
   "outputs": [
    {
     "data": {
      "text/plain": [
       "tensor([ 50, 100, 150])"
      ]
     },
     "execution_count": 11,
     "metadata": {},
     "output_type": "execute_result"
    }
   ],
   "source": [
    "# Simple multiplication\n",
    "X_TENSOR = torch.tensor([10, 20, 30])\n",
    "X_TENSOR * 5"
   ]
  },
  {
   "cell_type": "code",
   "execution_count": 12,
   "id": "0c9f8075-826b-47b2-af2b-832e4eabc479",
   "metadata": {},
   "outputs": [
    {
     "data": {
      "text/plain": [
       "tensor([2., 4., 6.])"
      ]
     },
     "execution_count": 12,
     "metadata": {},
     "output_type": "execute_result"
    }
   ],
   "source": [
    "# Simple division\n",
    "X_TENSOR = torch.tensor([10, 20, 30])\n",
    "X_TENSOR / 5"
   ]
  },
  {
   "cell_type": "code",
   "execution_count": 15,
   "id": "1b2a8500-9abe-47ba-8a6c-0c22f073f79b",
   "metadata": {},
   "outputs": [
    {
     "data": {
      "text/plain": [
       "tensor([11, 12, 13])"
      ]
     },
     "execution_count": 15,
     "metadata": {},
     "output_type": "execute_result"
    }
   ],
   "source": [
    "# Addition with pytorch in-built function\n",
    "X_TENSOR = torch.tensor([1, 2, 3])\n",
    "torch.add(X_TENSOR, 10)"
   ]
  },
  {
   "cell_type": "code",
   "execution_count": 16,
   "id": "39a777c1-26c1-47cd-a185-1b28d8b2919e",
   "metadata": {},
   "outputs": [
    {
     "data": {
      "text/plain": [
       "tensor([  0,  50, 100])"
      ]
     },
     "execution_count": 16,
     "metadata": {},
     "output_type": "execute_result"
    }
   ],
   "source": [
    "# Subtraction with pytorch in-built function\n",
    "X_TENSOR = torch.tensor([50, 100, 150])\n",
    "torch.sub(X_TENSOR, 50)"
   ]
  },
  {
   "cell_type": "code",
   "execution_count": 17,
   "id": "8801d131-d92c-4819-82c1-b1573af0b9e2",
   "metadata": {},
   "outputs": [
    {
     "data": {
      "text/plain": [
       "tensor([45, 30, 15])"
      ]
     },
     "execution_count": 17,
     "metadata": {},
     "output_type": "execute_result"
    }
   ],
   "source": [
    "# Multiplication with pytorch in-built function\n",
    "X_TENSOR = torch.tensor([15, 10, 5])\n",
    "torch.mul(X_TENSOR, 3)"
   ]
  },
  {
   "cell_type": "code",
   "execution_count": 18,
   "id": "26468bae-17fb-438f-9bb5-63b6012d1538",
   "metadata": {},
   "outputs": [
    {
     "data": {
      "text/plain": [
       "tensor([5.0000, 3.3333, 1.6667])"
      ]
     },
     "execution_count": 18,
     "metadata": {},
     "output_type": "execute_result"
    }
   ],
   "source": [
    "# Division with pytorch in-built function\n",
    "X_TENSOR = torch.tensor([15, 10, 5])\n",
    "torch.div(X_TENSOR, 3)"
   ]
  }
 ],
 "metadata": {
  "kernelspec": {
   "display_name": "Python 3 (ipykernel)",
   "language": "python",
   "name": "python3"
  },
  "language_info": {
   "codemirror_mode": {
    "name": "ipython",
    "version": 3
   },
   "file_extension": ".py",
   "mimetype": "text/x-python",
   "name": "python",
   "nbconvert_exporter": "python",
   "pygments_lexer": "ipython3",
   "version": "3.12.3"
  }
 },
 "nbformat": 4,
 "nbformat_minor": 5
}
