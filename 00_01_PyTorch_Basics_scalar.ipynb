{
 "cells": [
  {
   "cell_type": "code",
   "execution_count": 6,
   "id": "95f0748e-9bce-491e-8921-a63c37a750eb",
   "metadata": {},
   "outputs": [],
   "source": [
    "# Import required packages\n",
    "import torch\n",
    "import pandas as pd\n",
    "import numpy as np\n",
    "import matplotlib, matplotlib.pyplot as plt"
   ]
  },
  {
   "cell_type": "code",
   "execution_count": 9,
   "id": "9b291370-5361-464a-a60b-f3502a9d5880",
   "metadata": {},
   "outputs": [
    {
     "name": "stdout",
     "output_type": "stream",
     "text": [
      "PyTorch    : 2.8.0+cu126\n",
      "Pandas     : 2.3.2\n",
      "NumPy      : 2.1.2\n",
      "Matplotlib : 3.10.6\n"
     ]
    }
   ],
   "source": [
    "# Check versions to clarify if all required modules are installed and imported\n",
    "print('PyTorch    :', torch.__version__)\n",
    "print('Pandas     :', pd.__version__)\n",
    "print('NumPy      :', np.__version__)\n",
    "print('Matplotlib :', matplotlib.__version__)"
   ]
  },
  {
   "cell_type": "markdown",
   "id": "5daeb23c-72bb-41b3-b62f-05cabc1f7804",
   "metadata": {},
   "source": [
    "----------------------------------------------------------------------------------------------------------------------------------------------------------------\n",
    "\n",
    "### Scalar tensor & Operations"
   ]
  },
  {
   "cell_type": "code",
   "execution_count": 44,
   "id": "fe1d9953-1bfb-4ca2-b325-d082dafef4b4",
   "metadata": {},
   "outputs": [
    {
     "name": "stdout",
     "output_type": "stream",
     "text": [
      "tensor(5)\n",
      "tensor(3.5000)\n",
      "torch.Size([])\n",
      "torch.Size([])\n",
      "0\n",
      "0\n"
     ]
    }
   ],
   "source": [
    "# Scalar tensor\n",
    "x = torch.tensor(5)  # an integer scalar\n",
    "y = torch.tensor(3.5)  # a float scalar\n",
    "\n",
    "# Print the properties of scalar tensor\n",
    "print(x)\n",
    "print(y)\n",
    "print(x.shape)\n",
    "print(y.shape)\n",
    "print(x.ndim) # Dimensions of x\n",
    "print(y.ndim) # Dimensions of y"
   ]
  },
  {
   "cell_type": "code",
   "execution_count": 41,
   "id": "d8bc0de1-86a1-492d-b931-1bc6e4ea40db",
   "metadata": {},
   "outputs": [
    {
     "name": "stdout",
     "output_type": "stream",
     "text": [
      "Result using torch.add():\n",
      "tensor(8.5000)\n",
      "------------------------------------------------\n",
      "Result using '+' operator:\n",
      "tensor(8.5000)\n",
      "------------------------------------------------\n",
      "------------------------------------------------\n",
      "Result using torch.add():\n",
      "tensor(1.5000)\n",
      "------------------------------------------------\n",
      "Result using '-' operator:\n",
      "tensor(1.5000)\n",
      "------------------------------------------------\n",
      "------------------------------------------------\n"
     ]
    }
   ],
   "source": [
    "# Operations\n",
    "\n",
    "# Perform addition using torch.add function\n",
    "result_add_function = torch.add(x, y)\n",
    "print(\"Result using torch.add():\")\n",
    "print(result_add_function)\n",
    "\n",
    "print('------------------------------------------------')\n",
    "\n",
    "# Perform addition using the '+' operator (operator overloading)\n",
    "result_add_operator = x + y\n",
    "print(\"Result using '+' operator:\")\n",
    "print(result_add_operator)\n",
    "\n",
    "print('------------------------------------------------')\n",
    "print('------------------------------------------------')\n",
    "\n",
    "\n",
    "# Perform subtraction using torch.sub function\n",
    "result_add_function = torch.sub(x, y)\n",
    "print(\"Result using torch.add():\")\n",
    "print(result_add_function)\n",
    "\n",
    "\n",
    "print('------------------------------------------------')\n",
    "\n",
    "\n",
    "# Perform subtraction using the '-' operator (operator overloading)\n",
    "result_add_operator = x - y\n",
    "print(\"Result using '-' operator:\")\n",
    "print(result_add_operator)\n",
    "\n",
    "\n",
    "print('------------------------------------------------')\n",
    "print('------------------------------------------------')\n",
    "\n",
    "\n",
    "\n"
   ]
  },
  {
   "cell_type": "code",
   "execution_count": null,
   "id": "b4cb6d9b-cf44-4bac-8fd5-0443b60ec211",
   "metadata": {},
   "outputs": [],
   "source": []
  }
 ],
 "metadata": {
  "kernelspec": {
   "display_name": "Python 3 (ipykernel)",
   "language": "python",
   "name": "python3"
  },
  "language_info": {
   "codemirror_mode": {
    "name": "ipython",
    "version": 3
   },
   "file_extension": ".py",
   "mimetype": "text/x-python",
   "name": "python",
   "nbconvert_exporter": "python",
   "pygments_lexer": "ipython3",
   "version": "3.12.3"
  }
 },
 "nbformat": 4,
 "nbformat_minor": 5
}
