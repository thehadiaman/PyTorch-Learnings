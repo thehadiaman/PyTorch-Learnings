{
 "cells": [
  {
   "cell_type": "code",
   "execution_count": 1,
   "id": "95f0748e-9bce-491e-8921-a63c37a750eb",
   "metadata": {},
   "outputs": [],
   "source": [
    "# Import required packages\n",
    "import torch\n",
    "import pandas as pd\n",
    "import numpy as np\n",
    "import matplotlib, matplotlib.pyplot as plt"
   ]
  },
  {
   "cell_type": "code",
   "execution_count": 2,
   "id": "9b291370-5361-464a-a60b-f3502a9d5880",
   "metadata": {},
   "outputs": [
    {
     "name": "stdout",
     "output_type": "stream",
     "text": [
      "PyTorch    : 2.7.1+cu118\n",
      "Pandas     : 2.3.2\n",
      "NumPy      : 2.3.3\n",
      "Matplotlib : 3.10.6\n"
     ]
    }
   ],
   "source": [
    "# Check versions to clarify if all required modules are installed and imported\n",
    "print('PyTorch    :', torch.__version__)\n",
    "print('Pandas     :', pd.__version__)\n",
    "print('NumPy      :', np.__version__)\n",
    "print('Matplotlib :', matplotlib.__version__)"
   ]
  },
  {
   "cell_type": "markdown",
   "id": "ac7f6232-886f-477b-af2a-b1998de85047",
   "metadata": {},
   "source": [
    "------------------------------------------------------------------------------------------------------------------------\n",
    "### Matrix Multiplication\n",
    "\n",
    "#### Study material\n",
    "* https://www.mathsisfun.com/algebra/matrix-multiplying.html\n",
    "\n",
    "\n",
    "\n",
    "#### Types of matrix multiplication\n",
    "* Element-wise multiplication\n",
    "* Matrix multiplication"
   ]
  },
  {
   "cell_type": "code",
   "execution_count": 3,
   "id": "cc943832-b032-491d-938f-ea030e880cc6",
   "metadata": {},
   "outputs": [
    {
     "data": {
      "text/plain": [
       "tensor([1, 4, 9])"
      ]
     },
     "execution_count": 3,
     "metadata": {},
     "output_type": "execute_result"
    }
   ],
   "source": [
    "# Element-wise multiplication\n",
    "X_TENSOR = torch.tensor([1, 2, 3])\n",
    "X_TENSOR * X_TENSOR"
   ]
  },
  {
   "cell_type": "code",
   "execution_count": 4,
   "id": "8052ca1f-d4ae-4c44-a5e8-73ff809f8f16",
   "metadata": {},
   "outputs": [
    {
     "name": "stdout",
     "output_type": "stream",
     "text": [
      "tensor(14)\n"
     ]
    },
    {
     "data": {
      "text/plain": [
       "tensor(14)"
      ]
     },
     "execution_count": 4,
     "metadata": {},
     "output_type": "execute_result"
    }
   ],
   "source": [
    "# Matrix multiplication\n",
    "# 1*1 + 2*2 + 3*3 = 1 + 4 + 9 = 14\n",
    "print(torch.matmul(X_TENSOR, X_TENSOR))\n",
    "\n",
    "# also we can use @ for tensor multiplication\n",
    "X_TENSOR @ X_TENSOR"
   ]
  },
  {
   "cell_type": "code",
   "execution_count": 5,
   "id": "b62cff56-0163-4516-9eff-2f3229ae9f65",
   "metadata": {},
   "outputs": [
    {
     "name": "stdout",
     "output_type": "stream",
     "text": [
      "CPU times: user 2 μs, sys: 1 μs, total: 3 μs\n",
      "Wall time: 3.81 μs\n"
     ]
    },
    {
     "data": {
      "text/plain": [
       "14"
      ]
     },
     "execution_count": 5,
     "metadata": {},
     "output_type": "execute_result"
    }
   ],
   "source": [
    "%%time\n",
    "# Check performance python vs PyTorch\n",
    "1*1 + 2*2 + 3*3"
   ]
  },
  {
   "cell_type": "code",
   "execution_count": 6,
   "id": "9e1ccf74-dc3a-470e-ab4c-7633ab5f6bbe",
   "metadata": {},
   "outputs": [
    {
     "name": "stdout",
     "output_type": "stream",
     "text": [
      "CPU times: user 636 μs, sys: 103 μs, total: 739 μs\n",
      "Wall time: 2.39 ms\n"
     ]
    },
    {
     "data": {
      "text/plain": [
       "tensor(14)"
      ]
     },
     "execution_count": 6,
     "metadata": {},
     "output_type": "execute_result"
    }
   ],
   "source": [
    "%%time\n",
    "# Check performance python vs PyTorch\n",
    "result = 0\n",
    "\n",
    "for a in X_TENSOR:\n",
    "    result += (a*a)\n",
    "\n",
    "result"
   ]
  },
  {
   "cell_type": "code",
   "execution_count": 7,
   "id": "2521e28c-a9d7-4691-a706-4c5c2b0356d6",
   "metadata": {},
   "outputs": [
    {
     "name": "stdout",
     "output_type": "stream",
     "text": [
      "CPU times: user 179 μs, sys: 29 μs, total: 208 μs\n",
      "Wall time: 128 μs\n"
     ]
    },
    {
     "data": {
      "text/plain": [
       "tensor(14)"
      ]
     },
     "execution_count": 7,
     "metadata": {},
     "output_type": "execute_result"
    }
   ],
   "source": [
    "%%time\n",
    "torch.matmul(X_TENSOR, X_TENSOR)"
   ]
  },
  {
   "cell_type": "markdown",
   "id": "93b34fa4-82d4-44a4-922a-0a59df12c976",
   "metadata": {},
   "source": [
    "--------------------------------------------------------------------------------------------------------------------------------------\n",
    "\n",
    "#### Rules of matrix multiplication\n",
    "\n",
    "#### Study material\n",
    "    * http://matrixmultiplication.xyz/\n",
    "\n",
    "### 1. The inner dimensions must match.\n",
    "   * Okay\n",
    "     * `(2, 1) @ (1, 2)`\n",
    "     * `(1, 2) @ (2, 1)`\n",
    "   * Not Okay\n",
    "     * `(2, 1) @ (2, 1)`\n",
    "     * `(1, 2) @ (1, 2)`"
   ]
  },
  {
   "cell_type": "code",
   "execution_count": 8,
   "id": "72916d22-5266-49f1-873d-46fe434f944c",
   "metadata": {},
   "outputs": [
    {
     "data": {
      "text/plain": [
       "tensor([[0.1734, 0.2302],\n",
       "        [0.2382, 0.3164]])"
      ]
     },
     "execution_count": 8,
     "metadata": {},
     "output_type": "execute_result"
    }
   ],
   "source": [
    "# Case 1: Working\n",
    "X_TENSOR = torch.rand(2, 1)\n",
    "Y_TENSOR = torch.rand(1, 2)\n",
    "\n",
    "# It will work\n",
    "torch.matmul(X_TENSOR, Y_TENSOR)"
   ]
  },
  {
   "cell_type": "code",
   "execution_count": 9,
   "id": "f1404778-bca2-4ba6-8cb3-5067b01fa080",
   "metadata": {},
   "outputs": [
    {
     "data": {
      "text/plain": [
       "tensor([[0.6598]])"
      ]
     },
     "execution_count": 9,
     "metadata": {},
     "output_type": "execute_result"
    }
   ],
   "source": [
    "# Case 2: Working\n",
    "X_TENSOR = torch.rand(1, 2)\n",
    "Y_TENSOR = torch.rand(2, 1)\n",
    "\n",
    "# It will work\n",
    "torch.matmul(X_TENSOR, Y_TENSOR)"
   ]
  },
  {
   "cell_type": "code",
   "execution_count": 10,
   "id": "30db631b-dedb-45e9-bc3c-a2abc4f9b9aa",
   "metadata": {},
   "outputs": [
    {
     "name": "stdout",
     "output_type": "stream",
     "text": [
      "\u001b[31mmat1 and mat2 shapes cannot be multiplied (2x1 and 2x1)\u001b[0m\n"
     ]
    }
   ],
   "source": [
    "# Case 2: Not Working\n",
    "X_TENSOR = torch.rand(2, 1)\n",
    "Y_TENSOR = torch.rand(2, 1)\n",
    "\n",
    "# It will fail to run\n",
    "try:\n",
    "    torch.matmul(X_TENSOR, Y_TENSOR)\n",
    "except RuntimeError as e:\n",
    "    # Error but in red color\n",
    "    print(f'\\033[31m{e}\\033[0m')"
   ]
  },
  {
   "cell_type": "code",
   "execution_count": 11,
   "id": "a3f293d2-34bc-4d9a-948a-711d16d21500",
   "metadata": {},
   "outputs": [
    {
     "name": "stdout",
     "output_type": "stream",
     "text": [
      "\u001b[31mmat1 and mat2 shapes cannot be multiplied (1x2 and 1x2)\u001b[0m\n"
     ]
    }
   ],
   "source": [
    "# Case 3: Not Working\n",
    "X_TENSOR = torch.rand(1, 2)\n",
    "Y_TENSOR = torch.rand(1, 2)\n",
    "\n",
    "# It will fail to run\n",
    "try:\n",
    "    torch.matmul(X_TENSOR, Y_TENSOR)\n",
    "except RuntimeError as e:\n",
    "    # Error but in red color\n",
    "    print(f'\\033[31m{e}\\033[0m')"
   ]
  },
  {
   "cell_type": "markdown",
   "id": "ed02763c-31ff-4b39-b131-d88ea63de071",
   "metadata": {},
   "source": [
    "### 2. The resulting matrix has the shape of the outer dimensions\n",
    "   * `(2, 1) @ (1, 2)` -> `(2, 2)`\n",
    "   * `(1, 2) @ (2, 1)` -> `(1, 1)`"
   ]
  },
  {
   "cell_type": "code",
   "execution_count": 18,
   "id": "0d61a696-eda8-42d1-923a-fd41f8b7e791",
   "metadata": {},
   "outputs": [
    {
     "data": {
      "text/plain": [
       "torch.Size([2, 2])"
      ]
     },
     "execution_count": 18,
     "metadata": {},
     "output_type": "execute_result"
    }
   ],
   "source": [
    "# Case 1\n",
    "X_TENSOR = torch.rand(2, 1)\n",
    "Y_TENSOR = torch.rand(1, 2)\n",
    "\n",
    "Z_TENSOR = torch.matmul(X_TENSOR, Y_TENSOR)\n",
    "# Check the shape of Z_TENSOR\n",
    "Z_TENSOR.shape"
   ]
  },
  {
   "cell_type": "code",
   "execution_count": 19,
   "id": "650d281c-8182-4152-975b-b3d5d65d65bb",
   "metadata": {},
   "outputs": [
    {
     "data": {
      "text/plain": [
       "torch.Size([1, 1])"
      ]
     },
     "execution_count": 19,
     "metadata": {},
     "output_type": "execute_result"
    }
   ],
   "source": [
    "# Case 2\n",
    "X_TENSOR = torch.rand(1, 2)\n",
    "Y_TENSOR = torch.rand(2, 1)\n",
    "\n",
    "Z_TENSOR = torch.matmul(X_TENSOR, Y_TENSOR)\n",
    "# Check the shape of Z_TENSOR\n",
    "Z_TENSOR.shape"
   ]
  },
  {
   "cell_type": "markdown",
   "id": "2fa8bf3c-965a-4512-95b5-67e49030d69d",
   "metadata": {},
   "source": [
    "------------------\n",
    "### Shape Error\n",
    "- `(2, 1) @ (1, 2)` → **Shape Error**: The matrices are not aligned for multiplication because the inner dimensions do not match. Expected shape would be `(2, 2)`.\n",
    "- `(1, 2) @ (2, 1)` → **Shape Error**: The matrices are not aligned for multiplication because the inner dimensions do not match. Expected shape would be `(1, 1)`.\n",
    "\n",
    "### Normal Multiplication\n",
    "- `(2, 3) @ (3, 2)` → **(2, 2)**: Matrix multiplication is valid, resulting in a matrix with shape `(2, 2)`.\n",
    "- `(3, 2) @ (2, 4)` → **(3, 4)**: Matrix multiplication is valid, resulting in a matrix with shape `(3, 4)`.\n"
   ]
  },
  {
   "cell_type": "code",
   "execution_count": 24,
   "id": "0ab055e0-8634-43fc-bf1d-a3282b1eee5c",
   "metadata": {},
   "outputs": [
    {
     "name": "stdout",
     "output_type": "stream",
     "text": [
      "\u001b[31mmat1 and mat2 shapes cannot be multiplied (3x2 and 3x2)\u001b[0m\n"
     ]
    }
   ],
   "source": [
    "# Shapes of matrix multiplication\n",
    "\n",
    "X_TENSOR = torch.tensor([\n",
    "    [1, 2],\n",
    "    [3, 4],\n",
    "    [5, 6]\n",
    "])\n",
    "\n",
    "Y_TENSOR = torch.tensor([\n",
    "    [7, 8],\n",
    "    [9, 10],\n",
    "    [11, 12]\n",
    "])\n",
    "\n",
    "\n",
    "# It will fail to run\n",
    "try:\n",
    "    # mm is alias of matmul\n",
    "    torch.mm(X_TENSOR, Y_TENSOR)\n",
    "except RuntimeError as e:\n",
    "    # Error but in red color\n",
    "    print(f'\\033[31m{e}\\033[0m')"
   ]
  },
  {
   "cell_type": "markdown",
   "id": "66f55d1a-9016-4c13-900a-e48df8dfb66b",
   "metadata": {},
   "source": [
    "We can use **transpose** to fix our tensor shape issues by manipulating the shape of one of our tensors.\n",
    "\n",
    "**transpose** -> Switches the axes or dimensions of a given tensor."
   ]
  },
  {
   "cell_type": "code",
   "execution_count": 27,
   "id": "28c7ddf8-998c-446e-8818-6ce62affc6bf",
   "metadata": {},
   "outputs": [
    {
     "name": "stdout",
     "output_type": "stream",
     "text": [
      "tensor([[1, 2],\n",
      "        [3, 4],\n",
      "        [5, 6]])\n",
      "tensor([[1, 3, 5],\n",
      "        [2, 4, 6]])\n"
     ]
    }
   ],
   "source": [
    "# Matrix without transoise\n",
    "print(X_TENSOR)\n",
    "# Matrix with transoise\n",
    "print(X_TENSOR.T)"
   ]
  },
  {
   "cell_type": "code",
   "execution_count": 28,
   "id": "3a3c2c47-326b-4ef8-be53-e77af19c0659",
   "metadata": {},
   "outputs": [
    {
     "data": {
      "text/plain": [
       "tensor([[ 89,  98],\n",
       "        [116, 128]])"
      ]
     },
     "execution_count": 28,
     "metadata": {},
     "output_type": "execute_result"
    }
   ],
   "source": [
    "# This will work because we use transpose\n",
    "torch.mm(X_TENSOR.T, Y_TENSOR)"
   ]
  },
  {
   "cell_type": "code",
   "execution_count": 31,
   "id": "ce639270-8467-4858-ab6c-57cc5b401337",
   "metadata": {},
   "outputs": [
    {
     "name": "stdout",
     "output_type": "stream",
     "text": [
      "torch.Size([3, 2]) torch.Size([3, 2])\n",
      "torch.Size([2, 3]) torch.Size([3, 2])\n"
     ]
    }
   ],
   "source": [
    "# Shape before and after transpose\n",
    "\n",
    "# Before tranapose\n",
    "print(X_TENSOR.shape, Y_TENSOR.shape)\n",
    "\n",
    "# After tranapose\n",
    "print(X_TENSOR.T.shape, Y_TENSOR.shape)"
   ]
  },
  {
   "cell_type": "code",
   "execution_count": null,
   "id": "c4d82482-1b5c-4cd7-9ecc-ceaf013f7868",
   "metadata": {},
   "outputs": [],
   "source": []
  }
 ],
 "metadata": {
  "kernelspec": {
   "display_name": "Python 3 (ipykernel)",
   "language": "python",
   "name": "python3"
  },
  "language_info": {
   "codemirror_mode": {
    "name": "ipython",
    "version": 3
   },
   "file_extension": ".py",
   "mimetype": "text/x-python",
   "name": "python",
   "nbconvert_exporter": "python",
   "pygments_lexer": "ipython3",
   "version": "3.12.3"
  }
 },
 "nbformat": 4,
 "nbformat_minor": 5
}
