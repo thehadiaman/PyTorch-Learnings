{
 "cells": [
  {
   "cell_type": "code",
   "execution_count": 1,
   "id": "95f0748e-9bce-491e-8921-a63c37a750eb",
   "metadata": {},
   "outputs": [],
   "source": [
    "# Import required packages\n",
    "import torch\n",
    "import pandas as pd\n",
    "import numpy as np\n",
    "import matplotlib, matplotlib.pyplot as plt"
   ]
  },
  {
   "cell_type": "code",
   "execution_count": 2,
   "id": "9b291370-5361-464a-a60b-f3502a9d5880",
   "metadata": {},
   "outputs": [
    {
     "name": "stdout",
     "output_type": "stream",
     "text": [
      "PyTorch    : 2.7.1+cu118\n",
      "Pandas     : 2.3.2\n",
      "NumPy      : 2.3.3\n",
      "Matplotlib : 3.10.6\n"
     ]
    }
   ],
   "source": [
    "# Check versions to clarify if all required modules are installed and imported\n",
    "print('PyTorch    :', torch.__version__)\n",
    "print('Pandas     :', pd.__version__)\n",
    "print('NumPy      :', np.__version__)\n",
    "print('Matplotlib :', matplotlib.__version__)"
   ]
  },
  {
   "cell_type": "markdown",
   "id": "ac7f6232-886f-477b-af2a-b1998de85047",
   "metadata": {},
   "source": [
    "------------------------------------------------------------------------------------------------------------------------\n",
    "### Matrix Multiplication\n",
    "\n",
    "#### Study material\n",
    "* https://www.mathsisfun.com/algebra/matrix-multiplying.html\n",
    "\n",
    "\n",
    "\n",
    "#### Types of matrix multiplication\n",
    "* Element-wise multiplication\n",
    "* Matrix multiplication"
   ]
  },
  {
   "cell_type": "code",
   "execution_count": 40,
   "id": "cc943832-b032-491d-938f-ea030e880cc6",
   "metadata": {},
   "outputs": [
    {
     "data": {
      "text/plain": [
       "tensor([1, 4, 9])"
      ]
     },
     "execution_count": 40,
     "metadata": {},
     "output_type": "execute_result"
    }
   ],
   "source": [
    "# Element-wise multiplication\n",
    "X_TENSOR = torch.tensor([1, 2, 3])\n",
    "X_TENSOR * X_TENSOR"
   ]
  },
  {
   "cell_type": "code",
   "execution_count": 41,
   "id": "8052ca1f-d4ae-4c44-a5e8-73ff809f8f16",
   "metadata": {},
   "outputs": [
    {
     "name": "stdout",
     "output_type": "stream",
     "text": [
      "tensor(14)\n"
     ]
    },
    {
     "data": {
      "text/plain": [
       "tensor(14)"
      ]
     },
     "execution_count": 41,
     "metadata": {},
     "output_type": "execute_result"
    }
   ],
   "source": [
    "# Matrix multiplication\n",
    "# 1*1 + 2*2 + 3*3 = 1 + 4 + 9 = 14\n",
    "print(torch.matmul(X_TENSOR, X_TENSOR))\n",
    "\n",
    "# also we can use @ for tensor multiplication\n",
    "X_TENSOR @ X_TENSOR"
   ]
  },
  {
   "cell_type": "code",
   "execution_count": 42,
   "id": "b62cff56-0163-4516-9eff-2f3229ae9f65",
   "metadata": {},
   "outputs": [
    {
     "name": "stdout",
     "output_type": "stream",
     "text": [
      "CPU times: user 2 μs, sys: 0 ns, total: 2 μs\n",
      "Wall time: 4.29 μs\n"
     ]
    },
    {
     "data": {
      "text/plain": [
       "14"
      ]
     },
     "execution_count": 42,
     "metadata": {},
     "output_type": "execute_result"
    }
   ],
   "source": [
    "%%time\n",
    "# Check performance python vs PyTorch\n",
    "1*1 + 2*2 + 3*3"
   ]
  },
  {
   "cell_type": "code",
   "execution_count": 43,
   "id": "9e1ccf74-dc3a-470e-ab4c-7633ab5f6bbe",
   "metadata": {},
   "outputs": [
    {
     "name": "stdout",
     "output_type": "stream",
     "text": [
      "CPU times: user 1.17 ms, sys: 22 μs, total: 1.19 ms\n",
      "Wall time: 792 μs\n"
     ]
    },
    {
     "data": {
      "text/plain": [
       "tensor(14)"
      ]
     },
     "execution_count": 43,
     "metadata": {},
     "output_type": "execute_result"
    }
   ],
   "source": [
    "%%time\n",
    "# Check performance python vs PyTorch\n",
    "result = 0\n",
    "\n",
    "for a in X_TENSOR:\n",
    "    result += (a*a)\n",
    "\n",
    "result"
   ]
  },
  {
   "cell_type": "code",
   "execution_count": 44,
   "id": "2521e28c-a9d7-4691-a706-4c5c2b0356d6",
   "metadata": {},
   "outputs": [
    {
     "name": "stdout",
     "output_type": "stream",
     "text": [
      "CPU times: user 226 μs, sys: 33 μs, total: 259 μs\n",
      "Wall time: 204 μs\n"
     ]
    },
    {
     "data": {
      "text/plain": [
       "tensor(14)"
      ]
     },
     "execution_count": 44,
     "metadata": {},
     "output_type": "execute_result"
    }
   ],
   "source": [
    "%%time\n",
    "torch.matmul(X_TENSOR, X_TENSOR)"
   ]
  },
  {
   "cell_type": "markdown",
   "id": "93b34fa4-82d4-44a4-922a-0a59df12c976",
   "metadata": {},
   "source": [
    "--------------------------------------------------------------------------------------------------------------------------------------\n",
    "\n",
    "#### Rules of matrix multiplication\n",
    "\n",
    "#### Study material\n",
    "    * http://matrixmultiplication.xyz/\n",
    "\n",
    "### 1. The inner dimensions must match.\n",
    "   * Okay\n",
    "     * `(2, 1) @ (1, 2)`\n",
    "     * `(1, 2) @ (2, 1)`\n",
    "   * Not Okay\n",
    "     * `(2, 1) @ (2, 1)`\n",
    "     * `(1, 2) @ (1, 2)`"
   ]
  },
  {
   "cell_type": "code",
   "execution_count": 45,
   "id": "72916d22-5266-49f1-873d-46fe434f944c",
   "metadata": {},
   "outputs": [
    {
     "data": {
      "text/plain": [
       "tensor([[0.0635, 0.0275],\n",
       "        [0.0585, 0.0254]])"
      ]
     },
     "execution_count": 45,
     "metadata": {},
     "output_type": "execute_result"
    }
   ],
   "source": [
    "# Case 1: Working\n",
    "X_TENSOR = torch.rand(2, 1)\n",
    "Y_TENSOR = torch.rand(1, 2)\n",
    "\n",
    "# It will work\n",
    "torch.matmul(X_TENSOR, Y_TENSOR)"
   ]
  },
  {
   "cell_type": "code",
   "execution_count": 46,
   "id": "f1404778-bca2-4ba6-8cb3-5067b01fa080",
   "metadata": {},
   "outputs": [
    {
     "data": {
      "text/plain": [
       "tensor([[0.6302]])"
      ]
     },
     "execution_count": 46,
     "metadata": {},
     "output_type": "execute_result"
    }
   ],
   "source": [
    "# Case 2: Working\n",
    "X_TENSOR = torch.rand(1, 2)\n",
    "Y_TENSOR = torch.rand(2, 1)\n",
    "\n",
    "# It will work\n",
    "torch.matmul(X_TENSOR, Y_TENSOR)"
   ]
  },
  {
   "cell_type": "code",
   "execution_count": 47,
   "id": "30db631b-dedb-45e9-bc3c-a2abc4f9b9aa",
   "metadata": {},
   "outputs": [
    {
     "name": "stdout",
     "output_type": "stream",
     "text": [
      "\u001b[31mmat1 and mat2 shapes cannot be multiplied (2x1 and 2x1)\u001b[0m\n"
     ]
    }
   ],
   "source": [
    "# Case 2: Not Working\n",
    "X_TENSOR = torch.rand(2, 1)\n",
    "Y_TENSOR = torch.rand(2, 1)\n",
    "\n",
    "# It will fail to run\n",
    "try:\n",
    "    torch.matmul(X_TENSOR, Y_TENSOR)\n",
    "except RuntimeError as e:\n",
    "    # Error but in red color\n",
    "    print(f'\\033[31m{e}\\033[0m')"
   ]
  },
  {
   "cell_type": "code",
   "execution_count": 48,
   "id": "a3f293d2-34bc-4d9a-948a-711d16d21500",
   "metadata": {},
   "outputs": [
    {
     "name": "stdout",
     "output_type": "stream",
     "text": [
      "\u001b[31mmat1 and mat2 shapes cannot be multiplied (1x2 and 1x2)\u001b[0m\n"
     ]
    }
   ],
   "source": [
    "# Case 3: Not Working\n",
    "X_TENSOR = torch.rand(1, 2)\n",
    "Y_TENSOR = torch.rand(1, 2)\n",
    "\n",
    "# It will fail to run\n",
    "try:\n",
    "    torch.matmul(X_TENSOR, Y_TENSOR)\n",
    "except RuntimeError as e:\n",
    "    # Error but in red color\n",
    "    print(f'\\033[31m{e}\\033[0m')"
   ]
  },
  {
   "cell_type": "markdown",
   "id": "ed02763c-31ff-4b39-b131-d88ea63de071",
   "metadata": {},
   "source": [
    "### 1. The resulting matrix has the shape of the outer dimensions\n",
    "   * `(2, 1) @ (1, 2)` -> `(2, 2)`\n",
    "   * `(1, 2) @ (2, 1)` -> `(1, 1)`"
   ]
  },
  {
   "cell_type": "code",
   "execution_count": 49,
   "id": "0d61a696-eda8-42d1-923a-fd41f8b7e791",
   "metadata": {},
   "outputs": [
    {
     "data": {
      "text/plain": [
       "torch.Size([2, 2])"
      ]
     },
     "execution_count": 49,
     "metadata": {},
     "output_type": "execute_result"
    }
   ],
   "source": [
    "# Case 1\n",
    "X_TENSOR = torch.rand(2, 1)\n",
    "Y_TENSOR = torch.rand(1, 2)\n",
    "\n",
    "# Check the shape of Z_TENSOR\n",
    "Z_TENSOR = torch.matmul(X_TENSOR, Y_TENSOR)\n",
    "Z_TENSOR.shape"
   ]
  },
  {
   "cell_type": "code",
   "execution_count": 50,
   "id": "650d281c-8182-4152-975b-b3d5d65d65bb",
   "metadata": {},
   "outputs": [
    {
     "data": {
      "text/plain": [
       "torch.Size([1, 1])"
      ]
     },
     "execution_count": 50,
     "metadata": {},
     "output_type": "execute_result"
    }
   ],
   "source": [
    "# Case 2\n",
    "X_TENSOR = torch.rand(1, 2)\n",
    "Y_TENSOR = torch.rand(2, 1)\n",
    "\n",
    "# Check the shape of Z_TENSOR\n",
    "Z_TENSOR = torch.matmul(X_TENSOR, Y_TENSOR)\n",
    "Z_TENSOR.shape"
   ]
  },
  {
   "cell_type": "code",
   "execution_count": null,
   "id": "82ca4e23-d2d2-49cb-80af-87fc02ce288f",
   "metadata": {},
   "outputs": [],
   "source": []
  }
 ],
 "metadata": {
  "kernelspec": {
   "display_name": "Python 3 (ipykernel)",
   "language": "python",
   "name": "python3"
  },
  "language_info": {
   "codemirror_mode": {
    "name": "ipython",
    "version": 3
   },
   "file_extension": ".py",
   "mimetype": "text/x-python",
   "name": "python",
   "nbconvert_exporter": "python",
   "pygments_lexer": "ipython3",
   "version": "3.12.3"
  }
 },
 "nbformat": 4,
 "nbformat_minor": 5
}
