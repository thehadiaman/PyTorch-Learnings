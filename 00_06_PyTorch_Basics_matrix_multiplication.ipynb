{
 "cells": [
  {
   "cell_type": "code",
   "execution_count": 1,
   "id": "95f0748e-9bce-491e-8921-a63c37a750eb",
   "metadata": {},
   "outputs": [],
   "source": [
    "# Import required packages\n",
    "import torch\n",
    "import pandas as pd\n",
    "import numpy as np\n",
    "import matplotlib, matplotlib.pyplot as plt"
   ]
  },
  {
   "cell_type": "code",
   "execution_count": 2,
   "id": "9b291370-5361-464a-a60b-f3502a9d5880",
   "metadata": {},
   "outputs": [
    {
     "name": "stdout",
     "output_type": "stream",
     "text": [
      "PyTorch    : 2.7.1+cu118\n",
      "Pandas     : 2.3.2\n",
      "NumPy      : 2.3.3\n",
      "Matplotlib : 3.10.6\n"
     ]
    }
   ],
   "source": [
    "# Check versions to clarify if all required modules are installed and imported\n",
    "print('PyTorch    :', torch.__version__)\n",
    "print('Pandas     :', pd.__version__)\n",
    "print('NumPy      :', np.__version__)\n",
    "print('Matplotlib :', matplotlib.__version__)"
   ]
  },
  {
   "cell_type": "markdown",
   "id": "ac7f6232-886f-477b-af2a-b1998de85047",
   "metadata": {},
   "source": [
    "------------------------------------------------------------------------------------------------------------------------\n",
    "### Matrix Multiplication\n",
    "\n",
    "#### Study material\n",
    "* https://www.mathsisfun.com/algebra/matrix-multiplying.html\n",
    "\n",
    "\n",
    "\n",
    "#### Types of matrix multiplication\n",
    "* Element-wise multiplication\n",
    "* Matrix multiplication"
   ]
  },
  {
   "cell_type": "code",
   "execution_count": 3,
   "id": "cc943832-b032-491d-938f-ea030e880cc6",
   "metadata": {},
   "outputs": [
    {
     "data": {
      "text/plain": [
       "tensor([1, 4, 9])"
      ]
     },
     "execution_count": 3,
     "metadata": {},
     "output_type": "execute_result"
    }
   ],
   "source": [
    "# Element-wise multiplication\n",
    "X_TENSOR = torch.tensor([1, 2, 3])\n",
    "X_TENSOR * X_TENSOR"
   ]
  },
  {
   "cell_type": "code",
   "execution_count": 4,
   "id": "8052ca1f-d4ae-4c44-a5e8-73ff809f8f16",
   "metadata": {},
   "outputs": [
    {
     "name": "stdout",
     "output_type": "stream",
     "text": [
      "tensor(14)\n"
     ]
    },
    {
     "data": {
      "text/plain": [
       "tensor(14)"
      ]
     },
     "execution_count": 4,
     "metadata": {},
     "output_type": "execute_result"
    }
   ],
   "source": [
    "# Matrix multiplication\n",
    "# 1*1 + 2*2 + 3*3 = 1 + 4 + 9 = 14\n",
    "print(torch.matmul(X_TENSOR, X_TENSOR))\n",
    "\n",
    "# also we can use @ for tensor multiplication\n",
    "X_TENSOR @ X_TENSOR"
   ]
  },
  {
   "cell_type": "code",
   "execution_count": 5,
   "id": "b62cff56-0163-4516-9eff-2f3229ae9f65",
   "metadata": {},
   "outputs": [
    {
     "name": "stdout",
     "output_type": "stream",
     "text": [
      "CPU times: user 3 μs, sys: 1e+03 ns, total: 4 μs\n",
      "Wall time: 7.15 μs\n"
     ]
    },
    {
     "data": {
      "text/plain": [
       "14"
      ]
     },
     "execution_count": 5,
     "metadata": {},
     "output_type": "execute_result"
    }
   ],
   "source": [
    "%%time\n",
    "# Check performance python vs PyTorch\n",
    "1*1 + 2*2 + 3*3"
   ]
  },
  {
   "cell_type": "code",
   "execution_count": 6,
   "id": "9e1ccf74-dc3a-470e-ab4c-7633ab5f6bbe",
   "metadata": {},
   "outputs": [
    {
     "name": "stdout",
     "output_type": "stream",
     "text": [
      "CPU times: user 1.16 ms, sys: 232 μs, total: 1.39 ms\n",
      "Wall time: 3.03 ms\n"
     ]
    },
    {
     "data": {
      "text/plain": [
       "tensor(14)"
      ]
     },
     "execution_count": 6,
     "metadata": {},
     "output_type": "execute_result"
    }
   ],
   "source": [
    "%%time\n",
    "# Check performance python vs PyTorch\n",
    "result = 0\n",
    "\n",
    "for a in X_TENSOR:\n",
    "    result += (a*a)\n",
    "\n",
    "result"
   ]
  },
  {
   "cell_type": "code",
   "execution_count": 7,
   "id": "2521e28c-a9d7-4691-a706-4c5c2b0356d6",
   "metadata": {},
   "outputs": [
    {
     "name": "stdout",
     "output_type": "stream",
     "text": [
      "CPU times: user 205 μs, sys: 40 μs, total: 245 μs\n",
      "Wall time: 177 μs\n"
     ]
    },
    {
     "data": {
      "text/plain": [
       "tensor(14)"
      ]
     },
     "execution_count": 7,
     "metadata": {},
     "output_type": "execute_result"
    }
   ],
   "source": [
    "%%time\n",
    "torch.matmul(X_TENSOR, X_TENSOR)"
   ]
  },
  {
   "cell_type": "markdown",
   "id": "93b34fa4-82d4-44a4-922a-0a59df12c976",
   "metadata": {},
   "source": [
    "--------------------------------------------------------------------------------------------------------------------------------------\n",
    "\n",
    "#### Rules of matrix multiplication\n",
    "\n",
    "1. The inner dimensions must match.\n",
    "   * Okay\n",
    "     * (2, 1) @ (1, 2)\n",
    "     * (1, 2) @ (2, 1)\n",
    "   * Not Okay\n",
    "   * (2, 1) @ (2, 1)\n",
    "   * (1, 2) @ (1, 2)\n",
    "2. "
   ]
  },
  {
   "cell_type": "code",
   "execution_count": null,
   "id": "72916d22-5266-49f1-873d-46fe434f944c",
   "metadata": {},
   "outputs": [],
   "source": []
  }
 ],
 "metadata": {
  "kernelspec": {
   "display_name": "Python 3 (ipykernel)",
   "language": "python",
   "name": "python3"
  },
  "language_info": {
   "codemirror_mode": {
    "name": "ipython",
    "version": 3
   },
   "file_extension": ".py",
   "mimetype": "text/x-python",
   "name": "python",
   "nbconvert_exporter": "python",
   "pygments_lexer": "ipython3",
   "version": "3.12.3"
  }
 },
 "nbformat": 4,
 "nbformat_minor": 5
}
